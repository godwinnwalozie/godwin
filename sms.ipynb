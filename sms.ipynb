{
 "cells": [
  {
   "cell_type": "code",
   "execution_count": 1,
   "metadata": {},
   "outputs": [],
   "source": [
    "import pandas as pd\n",
    "import numpy as np\n",
    "from datetime import datetime , time, date"
   ]
  },
  {
   "cell_type": "code",
   "execution_count": 2,
   "metadata": {},
   "outputs": [],
   "source": [
    "sms = pd.read_xml(\"../../Desktop/sms_call/sms-20220925154521.xml\")"
   ]
  },
  {
   "cell_type": "code",
   "execution_count": 3,
   "metadata": {},
   "outputs": [
    {
     "data": {
      "text/plain": [
       "(16752, 70)"
      ]
     },
     "execution_count": 3,
     "metadata": {},
     "output_type": "execute_result"
    }
   ],
   "source": [
    "sms.shape"
   ]
  },
  {
   "cell_type": "code",
   "execution_count": 4,
   "metadata": {},
   "outputs": [
    {
     "data": {
      "text/plain": [
       "protocol        float64\n",
       "address          object\n",
       "date              int64\n",
       "type            float64\n",
       "subject          object\n",
       "                 ...   \n",
       "v               float64\n",
       "account         float64\n",
       "preview_data    float64\n",
       "parts           float64\n",
       "addrs           float64\n",
       "Length: 70, dtype: object"
      ]
     },
     "execution_count": 4,
     "metadata": {},
     "output_type": "execute_result"
    }
   ],
   "source": [
    "sms.dtypes"
   ]
  },
  {
   "cell_type": "code",
   "execution_count": 5,
   "metadata": {},
   "outputs": [],
   "source": [
    "# convert the date to datetime\n",
    "sms.date = pd.to_datetime(sms.date)\n",
    "sms.readable_date = pd.to_datetime(sms.readable_date)"
   ]
  },
  {
   "cell_type": "code",
   "execution_count": 6,
   "metadata": {},
   "outputs": [
    {
     "data": {
      "text/plain": [
       "Index(['protocol', 'address', 'date', 'type', 'subject', 'body', 'toa',\n",
       "       'sc_toa', 'service_center', 'read', 'status', 'locked', 'date_sent',\n",
       "       'sub_id', 'readable_date', 'contact_name', 'snippet', 'block_type',\n",
       "       'ct_t', 'source', 'msg_box', 'sub_cs', 'preview_type', 'mx_id',\n",
       "       'retr_st', 'd_tm', 'exp', 'm_id', 'out_time', 'retr_txt', 'rpt_a',\n",
       "       'ct_cls', 'timed', 'pri', 'sync_state', 'resp_txt', 'ct_l', 'sim_id',\n",
       "       'd_rpt', 'marker', 'file_id', '_id', 'preview_data_ts', 'm_type',\n",
       "       'mx_extension', 'rr', 'favorite_date', 'sub', 'read_status',\n",
       "       'date_ms_part', 'seen', 'bind_id', 'mx_id_v2', 'advanced_seen',\n",
       "       'resp_st', 'text_only', 'need_download', 'st', 'retr_txt_cs', 'm_size',\n",
       "       'mx_status', 'tr_id', 'mx_type', 'deleted', 'm_cls', 'v', 'account',\n",
       "       'preview_data', 'parts', 'addrs'],\n",
       "      dtype='object')"
      ]
     },
     "execution_count": 6,
     "metadata": {},
     "output_type": "execute_result"
    }
   ],
   "source": [
    "sms.columns"
   ]
  },
  {
   "cell_type": "code",
   "execution_count": 7,
   "metadata": {},
   "outputs": [
    {
     "data": {
      "text/html": [
       "<div>\n",
       "<style scoped>\n",
       "    .dataframe tbody tr th:only-of-type {\n",
       "        vertical-align: middle;\n",
       "    }\n",
       "\n",
       "    .dataframe tbody tr th {\n",
       "        vertical-align: top;\n",
       "    }\n",
       "\n",
       "    .dataframe thead th {\n",
       "        text-align: right;\n",
       "    }\n",
       "</style>\n",
       "<table border=\"1\" class=\"dataframe\">\n",
       "  <thead>\n",
       "    <tr style=\"text-align: right;\">\n",
       "      <th></th>\n",
       "      <th>body</th>\n",
       "      <th>contact_name</th>\n",
       "      <th>readable_date</th>\n",
       "    </tr>\n",
       "  </thead>\n",
       "  <tbody>\n",
       "    <tr>\n",
       "      <th>0</th>\n",
       "      <td>Hi Kunle. Good eve.  I wish to engage the furn...</td>\n",
       "      <td>Kunle Neighbour</td>\n",
       "      <td>2013-06-07 20:45:14</td>\n",
       "    </tr>\n",
       "    <tr>\n",
       "      <th>1</th>\n",
       "      <td>Ogechi how was it weekend. If you are going to...</td>\n",
       "      <td>Ogechi-Landmark</td>\n",
       "      <td>2013-06-09 19:09:54</td>\n",
       "    </tr>\n",
       "    <tr>\n",
       "      <th>2</th>\n",
       "      <td>Is it not better I transfer to him directly?</td>\n",
       "      <td>Ifeanyichukwu Oparah</td>\n",
       "      <td>2013-06-10 13:49:06</td>\n",
       "    </tr>\n",
       "    <tr>\n",
       "      <th>3</th>\n",
       "      <td>I need his account pls. At least let him know ...</td>\n",
       "      <td>Ifeanyichukwu Oparah</td>\n",
       "      <td>2013-06-10 13:51:21</td>\n",
       "    </tr>\n",
       "    <tr>\n",
       "      <th>4</th>\n",
       "      <td>Yes thanks</td>\n",
       "      <td>Ifeanyichukwu Oparah</td>\n",
       "      <td>2013-06-10 13:55:09</td>\n",
       "    </tr>\n",
       "    <tr>\n",
       "      <th>...</th>\n",
       "      <td>...</td>\n",
       "      <td>...</td>\n",
       "      <td>...</td>\n",
       "    </tr>\n",
       "    <tr>\n",
       "      <th>16747</th>\n",
       "      <td>None</td>\n",
       "      <td>Mummy</td>\n",
       "      <td>2022-09-16 11:47:20</td>\n",
       "    </tr>\n",
       "    <tr>\n",
       "      <th>16748</th>\n",
       "      <td>None</td>\n",
       "      <td>Mummy</td>\n",
       "      <td>2022-09-19 15:11:29</td>\n",
       "    </tr>\n",
       "    <tr>\n",
       "      <th>16749</th>\n",
       "      <td>None</td>\n",
       "      <td>Mummy</td>\n",
       "      <td>2022-09-19 15:11:46</td>\n",
       "    </tr>\n",
       "    <tr>\n",
       "      <th>16750</th>\n",
       "      <td>None</td>\n",
       "      <td>Mummy</td>\n",
       "      <td>2022-09-19 15:11:57</td>\n",
       "    </tr>\n",
       "    <tr>\n",
       "      <th>16751</th>\n",
       "      <td>None</td>\n",
       "      <td>Mummy</td>\n",
       "      <td>2022-09-19 15:12:16</td>\n",
       "    </tr>\n",
       "  </tbody>\n",
       "</table>\n",
       "<p>16752 rows × 3 columns</p>\n",
       "</div>"
      ],
      "text/plain": [
       "                                                    body  \\\n",
       "0      Hi Kunle. Good eve.  I wish to engage the furn...   \n",
       "1      Ogechi how was it weekend. If you are going to...   \n",
       "2           Is it not better I transfer to him directly?   \n",
       "3      I need his account pls. At least let him know ...   \n",
       "4                                             Yes thanks   \n",
       "...                                                  ...   \n",
       "16747                                               None   \n",
       "16748                                               None   \n",
       "16749                                               None   \n",
       "16750                                               None   \n",
       "16751                                               None   \n",
       "\n",
       "               contact_name       readable_date  \n",
       "0           Kunle Neighbour 2013-06-07 20:45:14  \n",
       "1           Ogechi-Landmark 2013-06-09 19:09:54  \n",
       "2      Ifeanyichukwu Oparah 2013-06-10 13:49:06  \n",
       "3      Ifeanyichukwu Oparah 2013-06-10 13:51:21  \n",
       "4      Ifeanyichukwu Oparah 2013-06-10 13:55:09  \n",
       "...                     ...                 ...  \n",
       "16747                 Mummy 2022-09-16 11:47:20  \n",
       "16748                 Mummy 2022-09-19 15:11:29  \n",
       "16749                 Mummy 2022-09-19 15:11:46  \n",
       "16750                 Mummy 2022-09-19 15:11:57  \n",
       "16751                 Mummy 2022-09-19 15:12:16  \n",
       "\n",
       "[16752 rows x 3 columns]"
      ]
     },
     "execution_count": 7,
     "metadata": {},
     "output_type": "execute_result"
    }
   ],
   "source": [
    "sms.loc[:,['body',\"contact_name\",\"readable_date\"]]"
   ]
  },
  {
   "cell_type": "code",
   "execution_count": 8,
   "metadata": {},
   "outputs": [],
   "source": [
    "# extract the year, month and day"
   ]
  },
  {
   "cell_type": "code",
   "execution_count": 9,
   "metadata": {},
   "outputs": [],
   "source": [
    "sms['ymd'] = pd.to_datetime(sms['readable_date']).dt.to_period('D')"
   ]
  },
  {
   "cell_type": "code",
   "execution_count": 10,
   "metadata": {},
   "outputs": [],
   "source": [
    "df= sms.loc[:,['body',\"contact_name\",\"ymd\"]]"
   ]
  },
  {
   "cell_type": "code",
   "execution_count": 11,
   "metadata": {},
   "outputs": [
    {
     "data": {
      "text/plain": [
       "body            72\n",
       "contact_name     0\n",
       "ymd              0\n",
       "dtype: int64"
      ]
     },
     "execution_count": 11,
     "metadata": {},
     "output_type": "execute_result"
    }
   ],
   "source": [
    "df.isna().sum()"
   ]
  },
  {
   "cell_type": "code",
   "execution_count": 12,
   "metadata": {},
   "outputs": [],
   "source": [
    "df = df.dropna()"
   ]
  },
  {
   "cell_type": "code",
   "execution_count": 13,
   "metadata": {},
   "outputs": [
    {
     "data": {
      "text/html": [
       "<div>\n",
       "<style scoped>\n",
       "    .dataframe tbody tr th:only-of-type {\n",
       "        vertical-align: middle;\n",
       "    }\n",
       "\n",
       "    .dataframe tbody tr th {\n",
       "        vertical-align: top;\n",
       "    }\n",
       "\n",
       "    .dataframe thead th {\n",
       "        text-align: right;\n",
       "    }\n",
       "</style>\n",
       "<table border=\"1\" class=\"dataframe\">\n",
       "  <thead>\n",
       "    <tr style=\"text-align: right;\">\n",
       "      <th></th>\n",
       "      <th>body</th>\n",
       "      <th>contact_name</th>\n",
       "      <th>ymd</th>\n",
       "    </tr>\n",
       "  </thead>\n",
       "  <tbody>\n",
       "    <tr>\n",
       "      <th>0</th>\n",
       "      <td>Hi Kunle. Good eve.  I wish to engage the furn...</td>\n",
       "      <td>Kunle Neighbour</td>\n",
       "      <td>2013-06-07</td>\n",
       "    </tr>\n",
       "    <tr>\n",
       "      <th>1</th>\n",
       "      <td>Ogechi how was it weekend. If you are going to...</td>\n",
       "      <td>Ogechi-Landmark</td>\n",
       "      <td>2013-06-09</td>\n",
       "    </tr>\n",
       "    <tr>\n",
       "      <th>2</th>\n",
       "      <td>Is it not better I transfer to him directly?</td>\n",
       "      <td>Ifeanyichukwu Oparah</td>\n",
       "      <td>2013-06-10</td>\n",
       "    </tr>\n",
       "    <tr>\n",
       "      <th>3</th>\n",
       "      <td>I need his account pls. At least let him know ...</td>\n",
       "      <td>Ifeanyichukwu Oparah</td>\n",
       "      <td>2013-06-10</td>\n",
       "    </tr>\n",
       "    <tr>\n",
       "      <th>4</th>\n",
       "      <td>Yes thanks</td>\n",
       "      <td>Ifeanyichukwu Oparah</td>\n",
       "      <td>2013-06-10</td>\n",
       "    </tr>\n",
       "    <tr>\n",
       "      <th>...</th>\n",
       "      <td>...</td>\n",
       "      <td>...</td>\n",
       "      <td>...</td>\n",
       "    </tr>\n",
       "    <tr>\n",
       "      <th>16725</th>\n",
       "      <td>Refer friends and family to purchase any of ou...</td>\n",
       "      <td>(Unknown)</td>\n",
       "      <td>2022-09-23</td>\n",
       "    </tr>\n",
       "    <tr>\n",
       "      <th>16726</th>\n",
       "      <td>Acc: xx3954\\nDebit: N5,000.00\\nDesc: MB IFO AJ...</td>\n",
       "      <td>(Unknown)</td>\n",
       "      <td>2022-09-23</td>\n",
       "    </tr>\n",
       "    <tr>\n",
       "      <th>16727</th>\n",
       "      <td>Just in: Certified Formal &amp; Casual Essentials ...</td>\n",
       "      <td>(Unknown)</td>\n",
       "      <td>2022-09-24</td>\n",
       "    </tr>\n",
       "    <tr>\n",
       "      <th>16728</th>\n",
       "      <td>Acc: xx3954\\nDebit: N4,500.00\\nDesc: IFO 20220...</td>\n",
       "      <td>(Unknown)</td>\n",
       "      <td>2022-09-25</td>\n",
       "    </tr>\n",
       "    <tr>\n",
       "      <th>16729</th>\n",
       "      <td>Your MOD/MyMTNApp recharge bonus will expire o...</td>\n",
       "      <td>(Unknown)</td>\n",
       "      <td>2022-09-25</td>\n",
       "    </tr>\n",
       "  </tbody>\n",
       "</table>\n",
       "<p>16680 rows × 3 columns</p>\n",
       "</div>"
      ],
      "text/plain": [
       "                                                    body  \\\n",
       "0      Hi Kunle. Good eve.  I wish to engage the furn...   \n",
       "1      Ogechi how was it weekend. If you are going to...   \n",
       "2           Is it not better I transfer to him directly?   \n",
       "3      I need his account pls. At least let him know ...   \n",
       "4                                             Yes thanks   \n",
       "...                                                  ...   \n",
       "16725  Refer friends and family to purchase any of ou...   \n",
       "16726  Acc: xx3954\\nDebit: N5,000.00\\nDesc: MB IFO AJ...   \n",
       "16727  Just in: Certified Formal & Casual Essentials ...   \n",
       "16728  Acc: xx3954\\nDebit: N4,500.00\\nDesc: IFO 20220...   \n",
       "16729  Your MOD/MyMTNApp recharge bonus will expire o...   \n",
       "\n",
       "               contact_name         ymd  \n",
       "0           Kunle Neighbour  2013-06-07  \n",
       "1           Ogechi-Landmark  2013-06-09  \n",
       "2      Ifeanyichukwu Oparah  2013-06-10  \n",
       "3      Ifeanyichukwu Oparah  2013-06-10  \n",
       "4      Ifeanyichukwu Oparah  2013-06-10  \n",
       "...                     ...         ...  \n",
       "16725             (Unknown)  2022-09-23  \n",
       "16726             (Unknown)  2022-09-23  \n",
       "16727             (Unknown)  2022-09-24  \n",
       "16728             (Unknown)  2022-09-25  \n",
       "16729             (Unknown)  2022-09-25  \n",
       "\n",
       "[16680 rows x 3 columns]"
      ]
     },
     "execution_count": 13,
     "metadata": {},
     "output_type": "execute_result"
    }
   ],
   "source": [
    "df"
   ]
  },
  {
   "cell_type": "code",
   "execution_count": 14,
   "metadata": {},
   "outputs": [
    {
     "data": {
      "text/html": [
       "<div>\n",
       "<style scoped>\n",
       "    .dataframe tbody tr th:only-of-type {\n",
       "        vertical-align: middle;\n",
       "    }\n",
       "\n",
       "    .dataframe tbody tr th {\n",
       "        vertical-align: top;\n",
       "    }\n",
       "\n",
       "    .dataframe thead th {\n",
       "        text-align: right;\n",
       "    }\n",
       "</style>\n",
       "<table border=\"1\" class=\"dataframe\">\n",
       "  <thead>\n",
       "    <tr style=\"text-align: right;\">\n",
       "      <th></th>\n",
       "      <th>body</th>\n",
       "      <th>contact_name</th>\n",
       "      <th>ymd</th>\n",
       "    </tr>\n",
       "  </thead>\n",
       "  <tbody>\n",
       "    <tr>\n",
       "      <th>0</th>\n",
       "      <td>Hi Kunle. Good eve.  I wish to engage the furn...</td>\n",
       "      <td>Kunle Neighbour</td>\n",
       "      <td>2013-06-07</td>\n",
       "    </tr>\n",
       "    <tr>\n",
       "      <th>1</th>\n",
       "      <td>Ogechi how was it weekend. If you are going to...</td>\n",
       "      <td>Ogechi-Landmark</td>\n",
       "      <td>2013-06-09</td>\n",
       "    </tr>\n",
       "    <tr>\n",
       "      <th>2</th>\n",
       "      <td>Is it not better I transfer to him directly?</td>\n",
       "      <td>Ifeanyichukwu Oparah</td>\n",
       "      <td>2013-06-10</td>\n",
       "    </tr>\n",
       "    <tr>\n",
       "      <th>3</th>\n",
       "      <td>I need his account pls. At least let him know ...</td>\n",
       "      <td>Ifeanyichukwu Oparah</td>\n",
       "      <td>2013-06-10</td>\n",
       "    </tr>\n",
       "    <tr>\n",
       "      <th>4</th>\n",
       "      <td>Yes thanks</td>\n",
       "      <td>Ifeanyichukwu Oparah</td>\n",
       "      <td>2013-06-10</td>\n",
       "    </tr>\n",
       "    <tr>\n",
       "      <th>...</th>\n",
       "      <td>...</td>\n",
       "      <td>...</td>\n",
       "      <td>...</td>\n",
       "    </tr>\n",
       "    <tr>\n",
       "      <th>16725</th>\n",
       "      <td>Refer friends and family to purchase any of ou...</td>\n",
       "      <td>(Unknown)</td>\n",
       "      <td>2022-09-23</td>\n",
       "    </tr>\n",
       "    <tr>\n",
       "      <th>16726</th>\n",
       "      <td>Acc: xx3954\\nDebit: N5,000.00\\nDesc: MB IFO AJ...</td>\n",
       "      <td>(Unknown)</td>\n",
       "      <td>2022-09-23</td>\n",
       "    </tr>\n",
       "    <tr>\n",
       "      <th>16727</th>\n",
       "      <td>Just in: Certified Formal &amp; Casual Essentials ...</td>\n",
       "      <td>(Unknown)</td>\n",
       "      <td>2022-09-24</td>\n",
       "    </tr>\n",
       "    <tr>\n",
       "      <th>16728</th>\n",
       "      <td>Acc: xx3954\\nDebit: N4,500.00\\nDesc: IFO 20220...</td>\n",
       "      <td>(Unknown)</td>\n",
       "      <td>2022-09-25</td>\n",
       "    </tr>\n",
       "    <tr>\n",
       "      <th>16729</th>\n",
       "      <td>Your MOD/MyMTNApp recharge bonus will expire o...</td>\n",
       "      <td>(Unknown)</td>\n",
       "      <td>2022-09-25</td>\n",
       "    </tr>\n",
       "  </tbody>\n",
       "</table>\n",
       "<p>16680 rows × 3 columns</p>\n",
       "</div>"
      ],
      "text/plain": [
       "                                                    body  \\\n",
       "0      Hi Kunle. Good eve.  I wish to engage the furn...   \n",
       "1      Ogechi how was it weekend. If you are going to...   \n",
       "2           Is it not better I transfer to him directly?   \n",
       "3      I need his account pls. At least let him know ...   \n",
       "4                                             Yes thanks   \n",
       "...                                                  ...   \n",
       "16725  Refer friends and family to purchase any of ou...   \n",
       "16726  Acc: xx3954\\nDebit: N5,000.00\\nDesc: MB IFO AJ...   \n",
       "16727  Just in: Certified Formal & Casual Essentials ...   \n",
       "16728  Acc: xx3954\\nDebit: N4,500.00\\nDesc: IFO 20220...   \n",
       "16729  Your MOD/MyMTNApp recharge bonus will expire o...   \n",
       "\n",
       "               contact_name         ymd  \n",
       "0           Kunle Neighbour  2013-06-07  \n",
       "1           Ogechi-Landmark  2013-06-09  \n",
       "2      Ifeanyichukwu Oparah  2013-06-10  \n",
       "3      Ifeanyichukwu Oparah  2013-06-10  \n",
       "4      Ifeanyichukwu Oparah  2013-06-10  \n",
       "...                     ...         ...  \n",
       "16725             (Unknown)  2022-09-23  \n",
       "16726             (Unknown)  2022-09-23  \n",
       "16727             (Unknown)  2022-09-24  \n",
       "16728             (Unknown)  2022-09-25  \n",
       "16729             (Unknown)  2022-09-25  \n",
       "\n",
       "[16680 rows x 3 columns]"
      ]
     },
     "execution_count": 14,
     "metadata": {},
     "output_type": "execute_result"
    }
   ],
   "source": [
    "df"
   ]
  },
  {
   "cell_type": "code",
   "execution_count": 15,
   "metadata": {},
   "outputs": [],
   "source": [
    "from sklearn.feature_extraction.text import TfidfVectorizer"
   ]
  },
  {
   "cell_type": "code",
   "execution_count": 16,
   "metadata": {},
   "outputs": [],
   "source": [
    "vectorizer = TfidfVectorizer(stop_words='english')"
   ]
  },
  {
   "cell_type": "code",
   "execution_count": 17,
   "metadata": {},
   "outputs": [
    {
     "data": {
      "text/plain": [
       "<16680x18784 sparse matrix of type '<class 'numpy.float64'>'\n",
       "\twith 231964 stored elements in Compressed Sparse Row format>"
      ]
     },
     "execution_count": 17,
     "metadata": {},
     "output_type": "execute_result"
    }
   ],
   "source": [
    "vectorizer.fit_transform(df.body)"
   ]
  },
  {
   "cell_type": "code",
   "execution_count": 18,
   "metadata": {},
   "outputs": [],
   "source": [
    "vec = vectorizer.fit_transform(df.body)"
   ]
  },
  {
   "cell_type": "code",
   "execution_count": 19,
   "metadata": {},
   "outputs": [],
   "source": [
    "from sklearn.preprocessing import LabelEncoder\n",
    "le = LabelEncoder()"
   ]
  },
  {
   "cell_type": "code",
   "execution_count": 20,
   "metadata": {},
   "outputs": [],
   "source": [
    "df.contact_name = le.fit_transform(df.contact_name)"
   ]
  },
  {
   "cell_type": "code",
   "execution_count": 29,
   "metadata": {},
   "outputs": [],
   "source": [
    "X = pd.concat([pd.DataFrame(vec),df.contact_name], axis =1).dropna()"
   ]
  },
  {
   "cell_type": "markdown",
   "metadata": {},
   "source": [
    "# lets experiement with clustering"
   ]
  },
  {
   "cell_type": "code",
   "execution_count": 31,
   "metadata": {},
   "outputs": [
    {
     "data": {
      "text/html": [
       "<div>\n",
       "<style scoped>\n",
       "    .dataframe tbody tr th:only-of-type {\n",
       "        vertical-align: middle;\n",
       "    }\n",
       "\n",
       "    .dataframe tbody tr th {\n",
       "        vertical-align: top;\n",
       "    }\n",
       "\n",
       "    .dataframe thead th {\n",
       "        text-align: right;\n",
       "    }\n",
       "</style>\n",
       "<table border=\"1\" class=\"dataframe\">\n",
       "  <thead>\n",
       "    <tr style=\"text-align: right;\">\n",
       "      <th></th>\n",
       "      <th>0</th>\n",
       "      <th>contact_name</th>\n",
       "    </tr>\n",
       "  </thead>\n",
       "  <tbody>\n",
       "    <tr>\n",
       "      <th>0</th>\n",
       "      <td>(0, 17232)\\t0.10617554890623825\\n  (0, 8809)...</td>\n",
       "      <td>186.0</td>\n",
       "    </tr>\n",
       "    <tr>\n",
       "      <th>1</th>\n",
       "      <td>(0, 14811)\\t0.36084514311193694\\n  (0, 5944)...</td>\n",
       "      <td>236.0</td>\n",
       "    </tr>\n",
       "    <tr>\n",
       "      <th>2</th>\n",
       "      <td>(0, 7758)\\t0.6965145966721017\\n  (0, 17491)\\...</td>\n",
       "      <td>147.0</td>\n",
       "    </tr>\n",
       "    <tr>\n",
       "      <th>3</th>\n",
       "      <td>(0, 1241)\\t0.3912078855523459\\n  (0, 14514)\\...</td>\n",
       "      <td>147.0</td>\n",
       "    </tr>\n",
       "    <tr>\n",
       "      <th>4</th>\n",
       "      <td>(0, 18686)\\t0.7905182431037305\\n  (0, 17232)...</td>\n",
       "      <td>147.0</td>\n",
       "    </tr>\n",
       "    <tr>\n",
       "      <th>...</th>\n",
       "      <td>...</td>\n",
       "      <td>...</td>\n",
       "    </tr>\n",
       "    <tr>\n",
       "      <th>16675</th>\n",
       "      <td>(0, 10077)\\t0.30123123780309424\\n  (0, 15765...</td>\n",
       "      <td>0.0</td>\n",
       "    </tr>\n",
       "    <tr>\n",
       "      <th>16676</th>\n",
       "      <td>(0, 497)\\t0.33784587771433283\\n  (0, 5228)\\t...</td>\n",
       "      <td>0.0</td>\n",
       "    </tr>\n",
       "    <tr>\n",
       "      <th>16677</th>\n",
       "      <td>(0, 10751)\\t0.3000204117971295\\n  (0, 6553)\\...</td>\n",
       "      <td>0.0</td>\n",
       "    </tr>\n",
       "    <tr>\n",
       "      <th>16678</th>\n",
       "      <td>(0, 211)\\t0.3615320537360505\\n  (0, 2261)\\t0...</td>\n",
       "      <td>0.0</td>\n",
       "    </tr>\n",
       "    <tr>\n",
       "      <th>16679</th>\n",
       "      <td>(0, 2008)\\t0.1550778610467614\\n  (0, 12216)\\...</td>\n",
       "      <td>0.0</td>\n",
       "    </tr>\n",
       "  </tbody>\n",
       "</table>\n",
       "<p>16630 rows × 2 columns</p>\n",
       "</div>"
      ],
      "text/plain": [
       "                                                       0  contact_name\n",
       "0        (0, 17232)\\t0.10617554890623825\\n  (0, 8809)...         186.0\n",
       "1        (0, 14811)\\t0.36084514311193694\\n  (0, 5944)...         236.0\n",
       "2        (0, 7758)\\t0.6965145966721017\\n  (0, 17491)\\...         147.0\n",
       "3        (0, 1241)\\t0.3912078855523459\\n  (0, 14514)\\...         147.0\n",
       "4        (0, 18686)\\t0.7905182431037305\\n  (0, 17232)...         147.0\n",
       "...                                                  ...           ...\n",
       "16675    (0, 10077)\\t0.30123123780309424\\n  (0, 15765...           0.0\n",
       "16676    (0, 497)\\t0.33784587771433283\\n  (0, 5228)\\t...           0.0\n",
       "16677    (0, 10751)\\t0.3000204117971295\\n  (0, 6553)\\...           0.0\n",
       "16678    (0, 211)\\t0.3615320537360505\\n  (0, 2261)\\t0...           0.0\n",
       "16679    (0, 2008)\\t0.1550778610467614\\n  (0, 12216)\\...           0.0\n",
       "\n",
       "[16630 rows x 2 columns]"
      ]
     },
     "execution_count": 31,
     "metadata": {},
     "output_type": "execute_result"
    }
   ],
   "source": [
    "X"
   ]
  },
  {
   "cell_type": "code",
   "execution_count": 51,
   "metadata": {},
   "outputs": [],
   "source": [
    "from sklearn.cluster import KMeans\n",
    "model = KMeans(n_clusters=5, random_state=42)\n",
    "clusters = model.fit_predict(vec)"
   ]
  },
  {
   "cell_type": "code",
   "execution_count": 52,
   "metadata": {},
   "outputs": [],
   "source": [
    "clusters = pd.DataFrame(clusters).rename({0:'clusters'}, axis =1)"
   ]
  },
  {
   "cell_type": "code",
   "execution_count": 56,
   "metadata": {},
   "outputs": [],
   "source": [
    "clusters\n",
    "final_df = pd.concat([df,clusters],axis =1).sort_values('clusters').dropna()"
   ]
  },
  {
   "cell_type": "code",
   "execution_count": 54,
   "metadata": {},
   "outputs": [
    {
     "data": {
      "text/plain": [
       "clusters\n",
       "0           11646\n",
       "4            1900\n",
       "3            1387\n",
       "1            1377\n",
       "2             370\n",
       "dtype: int64"
      ]
     },
     "execution_count": 54,
     "metadata": {},
     "output_type": "execute_result"
    }
   ],
   "source": [
    "clusters.value_counts()"
   ]
  },
  {
   "cell_type": "code",
   "execution_count": 57,
   "metadata": {},
   "outputs": [
    {
     "data": {
      "text/html": [
       "<div>\n",
       "<style scoped>\n",
       "    .dataframe tbody tr th:only-of-type {\n",
       "        vertical-align: middle;\n",
       "    }\n",
       "\n",
       "    .dataframe tbody tr th {\n",
       "        vertical-align: top;\n",
       "    }\n",
       "\n",
       "    .dataframe thead th {\n",
       "        text-align: right;\n",
       "    }\n",
       "</style>\n",
       "<table border=\"1\" class=\"dataframe\">\n",
       "  <thead>\n",
       "    <tr style=\"text-align: right;\">\n",
       "      <th></th>\n",
       "      <th>body</th>\n",
       "      <th>contact_name</th>\n",
       "      <th>ymd</th>\n",
       "      <th>clusters</th>\n",
       "    </tr>\n",
       "  </thead>\n",
       "  <tbody>\n",
       "    <tr>\n",
       "      <th>0</th>\n",
       "      <td>Hi Kunle. Good eve.  I wish to engage the furn...</td>\n",
       "      <td>186.0</td>\n",
       "      <td>2013-06-07</td>\n",
       "      <td>0.0</td>\n",
       "    </tr>\n",
       "    <tr>\n",
       "      <th>8894</th>\n",
       "      <td>Dear Client, a password change on your account...</td>\n",
       "      <td>0.0</td>\n",
       "      <td>2019-07-15</td>\n",
       "      <td>0.0</td>\n",
       "    </tr>\n",
       "    <tr>\n",
       "      <th>8896</th>\n",
       "      <td>Good morning. The wiper is 2,000 right ?</td>\n",
       "      <td>245.0</td>\n",
       "      <td>2019-07-15</td>\n",
       "      <td>0.0</td>\n",
       "    </tr>\n",
       "    <tr>\n",
       "      <th>8897</th>\n",
       "      <td>Your data balance is 100MB. Dial *200# to buy ...</td>\n",
       "      <td>0.0</td>\n",
       "      <td>2019-07-15</td>\n",
       "      <td>0.0</td>\n",
       "    </tr>\n",
       "    <tr>\n",
       "      <th>8898</th>\n",
       "      <td>&lt;#&gt; 2303 is your Bolt activation code.\\nWdpiXh...</td>\n",
       "      <td>0.0</td>\n",
       "      <td>2019-07-15</td>\n",
       "      <td>0.0</td>\n",
       "    </tr>\n",
       "    <tr>\n",
       "      <th>...</th>\n",
       "      <td>...</td>\n",
       "      <td>...</td>\n",
       "      <td>...</td>\n",
       "      <td>...</td>\n",
       "    </tr>\n",
       "    <tr>\n",
       "      <th>14187</th>\n",
       "      <td>Good evening ma. Your appointment is confirmed...</td>\n",
       "      <td>208.0</td>\n",
       "      <td>2021-10-17</td>\n",
       "      <td>4.0</td>\n",
       "    </tr>\n",
       "    <tr>\n",
       "      <th>14188</th>\n",
       "      <td>Do the x-ray if necessary</td>\n",
       "      <td>208.0</td>\n",
       "      <td>2021-10-17</td>\n",
       "      <td>4.0</td>\n",
       "    </tr>\n",
       "    <tr>\n",
       "      <th>10495</th>\n",
       "      <td>Activation of 1.5GB Monthly Data plan was succ...</td>\n",
       "      <td>0.0</td>\n",
       "      <td>2020-05-26</td>\n",
       "      <td>4.0</td>\n",
       "    </tr>\n",
       "    <tr>\n",
       "      <th>10492</th>\n",
       "      <td>BetaTalk Main Balance: N3861.76, Bonus: N6713....</td>\n",
       "      <td>0.0</td>\n",
       "      <td>2020-05-26</td>\n",
       "      <td>4.0</td>\n",
       "    </tr>\n",
       "    <tr>\n",
       "      <th>14179</th>\n",
       "      <td>Acct: 0038074744\\nAmt: 2,550.00 DR \\nDesc: -- ...</td>\n",
       "      <td>0.0</td>\n",
       "      <td>2021-10-17</td>\n",
       "      <td>4.0</td>\n",
       "    </tr>\n",
       "  </tbody>\n",
       "</table>\n",
       "<p>16630 rows × 4 columns</p>\n",
       "</div>"
      ],
      "text/plain": [
       "                                                    body  contact_name  \\\n",
       "0      Hi Kunle. Good eve.  I wish to engage the furn...         186.0   \n",
       "8894   Dear Client, a password change on your account...           0.0   \n",
       "8896            Good morning. The wiper is 2,000 right ?         245.0   \n",
       "8897   Your data balance is 100MB. Dial *200# to buy ...           0.0   \n",
       "8898   <#> 2303 is your Bolt activation code.\\nWdpiXh...           0.0   \n",
       "...                                                  ...           ...   \n",
       "14187  Good evening ma. Your appointment is confirmed...         208.0   \n",
       "14188                          Do the x-ray if necessary         208.0   \n",
       "10495  Activation of 1.5GB Monthly Data plan was succ...           0.0   \n",
       "10492  BetaTalk Main Balance: N3861.76, Bonus: N6713....           0.0   \n",
       "14179  Acct: 0038074744\\nAmt: 2,550.00 DR \\nDesc: -- ...           0.0   \n",
       "\n",
       "              ymd  clusters  \n",
       "0      2013-06-07       0.0  \n",
       "8894   2019-07-15       0.0  \n",
       "8896   2019-07-15       0.0  \n",
       "8897   2019-07-15       0.0  \n",
       "8898   2019-07-15       0.0  \n",
       "...           ...       ...  \n",
       "14187  2021-10-17       4.0  \n",
       "14188  2021-10-17       4.0  \n",
       "10495  2020-05-26       4.0  \n",
       "10492  2020-05-26       4.0  \n",
       "14179  2021-10-17       4.0  \n",
       "\n",
       "[16630 rows x 4 columns]"
      ]
     },
     "execution_count": 57,
     "metadata": {},
     "output_type": "execute_result"
    }
   ],
   "source": [
    "final_df"
   ]
  },
  {
   "cell_type": "code",
   "execution_count": null,
   "metadata": {},
   "outputs": [],
   "source": []
  }
 ],
 "metadata": {
  "kernelspec": {
   "display_name": "Python 3.9.12 ('ML')",
   "language": "python",
   "name": "python3"
  },
  "language_info": {
   "codemirror_mode": {
    "name": "ipython",
    "version": 3
   },
   "file_extension": ".py",
   "mimetype": "text/x-python",
   "name": "python",
   "nbconvert_exporter": "python",
   "pygments_lexer": "ipython3",
   "version": "3.9.12"
  },
  "orig_nbformat": 4,
  "vscode": {
   "interpreter": {
    "hash": "686cb14c4d1b9c10293961ee2915b43d0c34036735ac88ced71396191e257b28"
   }
  }
 },
 "nbformat": 4,
 "nbformat_minor": 2
}
